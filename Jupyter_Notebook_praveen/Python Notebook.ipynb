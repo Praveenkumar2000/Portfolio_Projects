{
 "cells": [
  {
   "cell_type": "markdown",
   "id": "f2280ea6",
   "metadata": {},
   "source": [
    "# Variables in Python"
   ]
  },
  {
   "cell_type": "code",
   "execution_count": 1,
   "id": "58320725",
   "metadata": {},
   "outputs": [
    {
     "name": "stdout",
     "output_type": "stream",
     "text": [
      "22\n"
     ]
    }
   ],
   "source": [
    "x=22\n",
    "print(x)"
   ]
  },
  {
   "cell_type": "code",
   "execution_count": 2,
   "id": "9ee3d688",
   "metadata": {},
   "outputs": [
    {
     "name": "stdout",
     "output_type": "stream",
     "text": [
      "11\n"
     ]
    }
   ],
   "source": [
    "y=11\n",
    "print(y)"
   ]
  },
  {
   "cell_type": "code",
   "execution_count": 5,
   "id": "f608e5a4",
   "metadata": {},
   "outputs": [
    {
     "name": "stdout",
     "output_type": "stream",
     "text": [
      "33\n",
      "22\n",
      "44\n"
     ]
    }
   ],
   "source": [
    "X=33\n",
    "print(X)\n",
    "print(x)\n",
    "x=44\n",
    "print(x)"
   ]
  },
  {
   "cell_type": "code",
   "execution_count": 6,
   "id": "2f4c077c",
   "metadata": {},
   "outputs": [
    {
     "name": "stdout",
     "output_type": "stream",
     "text": [
      "praveenkumar\n"
     ]
    }
   ],
   "source": [
    "x='praveenkumar'\n",
    "print(x)"
   ]
  },
  {
   "cell_type": "code",
   "execution_count": 7,
   "id": "c758eecd",
   "metadata": {},
   "outputs": [
    {
     "data": {
      "text/plain": [
       "str"
      ]
     },
     "execution_count": 7,
     "metadata": {},
     "output_type": "execute_result"
    }
   ],
   "source": [
    "type(x)"
   ]
  },
  {
   "cell_type": "code",
   "execution_count": 8,
   "id": "bbdb1ed8",
   "metadata": {},
   "outputs": [
    {
     "data": {
      "text/plain": [
       "int"
      ]
     },
     "execution_count": 8,
     "metadata": {},
     "output_type": "execute_result"
    }
   ],
   "source": [
    "type(y)"
   ]
  },
  {
   "cell_type": "code",
   "execution_count": 12,
   "id": "6cf7ecc8",
   "metadata": {},
   "outputs": [
    {
     "name": "stdout",
     "output_type": "stream",
     "text": [
      " praveen kumar naveen\n",
      " praveen\n",
      " kumar\n",
      " naveen\n"
     ]
    }
   ],
   "source": [
    "x,y,z=' praveen',' kumar',' naveen'\n",
    "print(x+y+z)\n",
    "print(x)\n",
    "print(y)\n",
    "print(z)"
   ]
  },
  {
   "cell_type": "code",
   "execution_count": 16,
   "id": "1ea97ba7",
   "metadata": {},
   "outputs": [
    {
     "name": "stdout",
     "output_type": "stream",
     "text": [
      "csp\n",
      "csp\n",
      "csp\n"
     ]
    }
   ],
   "source": [
    "x=y=z= 'csp'\n",
    "print(x)\n",
    "print(y)\n",
    "print(z)"
   ]
  },
  {
   "cell_type": "code",
   "execution_count": 17,
   "id": "21147617",
   "metadata": {},
   "outputs": [
    {
     "name": "stdout",
     "output_type": "stream",
     "text": [
      "sachin\n",
      "dhoni\n",
      "kohli\n"
     ]
    }
   ],
   "source": [
    "#list variables\n",
    "cricket_players = ['sachin','dhoni','kohli']\n",
    "x,y,z = cricket_players\n",
    "print(x)\n",
    "print(y)\n",
    "print(z)"
   ]
  },
  {
   "cell_type": "code",
   "execution_count": 2,
   "id": "3b1cc93b",
   "metadata": {},
   "outputs": [
    {
     "name": "stdout",
     "output_type": "stream",
     "text": [
      "cricket world cup 2023 india\n"
     ]
    }
   ],
   "source": [
    "x='cricket'\n",
    "y=' world cup'\n",
    "z=' 2023 india'\n",
    "print(x+y+z)"
   ]
  },
  {
   "cell_type": "code",
   "execution_count": 25,
   "id": "fed7a7c1",
   "metadata": {},
   "outputs": [
    {
     "name": "stdout",
     "output_type": "stream",
     "text": [
      "6\n"
     ]
    }
   ],
   "source": [
    "x=1\n",
    "y=2\n",
    "z=3\n",
    "print(x+y+z)"
   ]
  },
  {
   "cell_type": "code",
   "execution_count": 27,
   "id": "2f348b4b",
   "metadata": {},
   "outputs": [],
   "source": [
    "#camel case \n",
    "testVariableCase = 'praveen'\n",
    "#pascal case\n",
    "TestVariableCase = 'praveen'\n",
    "#snake case\n",
    "test_variable_case = 'praveen'"
   ]
  },
  {
   "cell_type": "markdown",
   "id": "61a9c4e8",
   "metadata": {},
   "source": [
    "# Data Types"
   ]
  },
  {
   "cell_type": "code",
   "execution_count": 30,
   "id": "7ccf26c6",
   "metadata": {},
   "outputs": [
    {
     "data": {
      "text/plain": [
       "int"
      ]
     },
     "execution_count": 30,
     "metadata": {},
     "output_type": "execute_result"
    }
   ],
   "source": [
    "type(100 + (-24))"
   ]
  },
  {
   "cell_type": "code",
   "execution_count": 31,
   "id": "89e09dc7",
   "metadata": {},
   "outputs": [
    {
     "data": {
      "text/plain": [
       "float"
      ]
     },
     "execution_count": 31,
     "metadata": {},
     "output_type": "execute_result"
    }
   ],
   "source": [
    "type(10 + 5.50)"
   ]
  },
  {
   "cell_type": "code",
   "execution_count": 32,
   "id": "b6f21ad2",
   "metadata": {},
   "outputs": [
    {
     "data": {
      "text/plain": [
       "complex"
      ]
     },
     "execution_count": 32,
     "metadata": {},
     "output_type": "execute_result"
    }
   ],
   "source": [
    "type(10 + 5j)"
   ]
  },
  {
   "cell_type": "code",
   "execution_count": 33,
   "id": "63c56ed4",
   "metadata": {},
   "outputs": [
    {
     "data": {
      "text/plain": [
       "True"
      ]
     },
     "execution_count": 33,
     "metadata": {},
     "output_type": "execute_result"
    }
   ],
   "source": [
    "#Boolean\n",
    "1 < 5"
   ]
  },
  {
   "cell_type": "code",
   "execution_count": 36,
   "id": "b4d4dedc",
   "metadata": {},
   "outputs": [
    {
     "data": {
      "text/plain": [
       "False"
      ]
     },
     "execution_count": 36,
     "metadata": {},
     "output_type": "execute_result"
    }
   ],
   "source": [
    "2 == 3"
   ]
  },
  {
   "cell_type": "code",
   "execution_count": 37,
   "id": "58017427",
   "metadata": {},
   "outputs": [
    {
     "data": {
      "text/plain": [
       "'Single Quote'"
      ]
     },
     "execution_count": 37,
     "metadata": {},
     "output_type": "execute_result"
    }
   ],
   "source": [
    "#strings\n",
    "'Single Quote'"
   ]
  },
  {
   "cell_type": "code",
   "execution_count": 38,
   "id": "d35d0274",
   "metadata": {},
   "outputs": [
    {
     "data": {
      "text/plain": [
       "'Double Quote'"
      ]
     },
     "execution_count": 38,
     "metadata": {},
     "output_type": "execute_result"
    }
   ],
   "source": [
    "\"Double Quote\""
   ]
  },
  {
   "cell_type": "code",
   "execution_count": 40,
   "id": "e09d0a9c",
   "metadata": {},
   "outputs": [],
   "source": [
    "first_program = \"\"\"\n",
    "write python program\n",
    "x=10\n",
    "print(x)\n",
    "\n",
    "\"\"\""
   ]
  },
  {
   "cell_type": "code",
   "execution_count": 41,
   "id": "e443ba2b",
   "metadata": {},
   "outputs": [
    {
     "name": "stdout",
     "output_type": "stream",
     "text": [
      "\n",
      "write python program\n",
      "x=10\n",
      "print(x)\n",
      "\n",
      "\n"
     ]
    }
   ],
   "source": [
    "print(first_program)"
   ]
  },
  {
   "cell_type": "code",
   "execution_count": 46,
   "id": "9a0d965a",
   "metadata": {},
   "outputs": [],
   "source": [
    "var_1 = \"\"\"\n",
    "\n",
    "I've always wanted to play \"cricket\" \n",
    "\n",
    "\"\"\""
   ]
  },
  {
   "cell_type": "code",
   "execution_count": 47,
   "id": "8aa57a96",
   "metadata": {},
   "outputs": [
    {
     "name": "stdout",
     "output_type": "stream",
     "text": [
      "\n",
      "\n",
      "I've always wanted to play \"cricket\" \n",
      "\n",
      "\n"
     ]
    }
   ],
   "source": [
    "print(var_1)"
   ]
  },
  {
   "cell_type": "code",
   "execution_count": 7,
   "id": "c72cc25b",
   "metadata": {},
   "outputs": [],
   "source": [
    "a = 'Hello python'"
   ]
  },
  {
   "cell_type": "code",
   "execution_count": 51,
   "id": "642942e4",
   "metadata": {},
   "outputs": [
    {
     "name": "stdout",
     "output_type": "stream",
     "text": [
      "Hello\n"
     ]
    }
   ],
   "source": [
    "print (a[:5])"
   ]
  },
  {
   "cell_type": "code",
   "execution_count": 52,
   "id": "525a2df7",
   "metadata": {},
   "outputs": [
    {
     "name": "stdout",
     "output_type": "stream",
     "text": [
      "llo\n"
     ]
    }
   ],
   "source": [
    "print (a[2:5])"
   ]
  },
  {
   "cell_type": "code",
   "execution_count": 11,
   "id": "d8845515",
   "metadata": {},
   "outputs": [
    {
     "name": "stdout",
     "output_type": "stream",
     "text": [
      "n\n"
     ]
    }
   ],
   "source": [
    "print (a[-1])"
   ]
  },
  {
   "cell_type": "code",
   "execution_count": 57,
   "id": "970aec3a",
   "metadata": {},
   "outputs": [
    {
     "data": {
      "text/plain": [
       "'Hello pythonHello pythonHello python'"
      ]
     },
     "execution_count": 57,
     "metadata": {},
     "output_type": "execute_result"
    }
   ],
   "source": [
    "a*3"
   ]
  },
  {
   "cell_type": "code",
   "execution_count": 58,
   "id": "4f15d274",
   "metadata": {},
   "outputs": [
    {
     "data": {
      "text/plain": [
       "'Hello pythonHello python'"
      ]
     },
     "execution_count": 58,
     "metadata": {},
     "output_type": "execute_result"
    }
   ],
   "source": [
    "a+a"
   ]
  },
  {
   "cell_type": "code",
   "execution_count": null,
   "id": "13d56b4f",
   "metadata": {},
   "outputs": [],
   "source": []
  },
  {
   "cell_type": "code",
   "execution_count": null,
   "id": "36b5a98e",
   "metadata": {},
   "outputs": [],
   "source": []
  },
  {
   "cell_type": "code",
   "execution_count": 59,
   "id": "cf52e8f1",
   "metadata": {},
   "outputs": [
    {
     "data": {
      "text/plain": [
       "[1, 2, 3]"
      ]
     },
     "execution_count": 59,
     "metadata": {},
     "output_type": "execute_result"
    }
   ],
   "source": [
    "#List\n",
    "\n",
    "[1,2,3]\n"
   ]
  },
  {
   "cell_type": "code",
   "execution_count": 61,
   "id": "243f912e",
   "metadata": {},
   "outputs": [
    {
     "data": {
      "text/plain": [
       "['praveen', 'jana', 'naveen']"
      ]
     },
     "execution_count": 61,
     "metadata": {},
     "output_type": "execute_result"
    }
   ],
   "source": [
    "['praveen', 'jana', 'naveen']"
   ]
  },
  {
   "cell_type": "code",
   "execution_count": 2,
   "id": "5cdd3e49",
   "metadata": {},
   "outputs": [
    {
     "data": {
      "text/plain": [
       "['Chennai', 2, ['Bandahalli', 'Dharmapuri'], True]"
      ]
     },
     "execution_count": 2,
     "metadata": {},
     "output_type": "execute_result"
    }
   ],
   "source": [
    "['Chennai', 2, ['Bandahalli', 'Dharmapuri'], True]"
   ]
  },
  {
   "cell_type": "code",
   "execution_count": 4,
   "id": "05e508a7",
   "metadata": {},
   "outputs": [
    {
     "data": {
      "text/plain": [
       "['praveen', 'jana', 'naveen', 'kumar']"
      ]
     },
     "execution_count": 4,
     "metadata": {},
     "output_type": "execute_result"
    }
   ],
   "source": [
    "name = ['praveen', 'jana', 'naveen']\n",
    "name.append('kumar')\n",
    "name"
   ]
  },
  {
   "cell_type": "code",
   "execution_count": 5,
   "id": "8eecfe6c",
   "metadata": {},
   "outputs": [
    {
     "data": {
      "text/plain": [
       "['Sakthivel', 'jana', 'naveen', 'kumar']"
      ]
     },
     "execution_count": 5,
     "metadata": {},
     "output_type": "execute_result"
    }
   ],
   "source": [
    "name[0] = 'Sakthivel'\n",
    "name"
   ]
  },
  {
   "cell_type": "code",
   "execution_count": 8,
   "id": "61283e48",
   "metadata": {},
   "outputs": [
    {
     "data": {
      "text/plain": [
       "'Dharmapuri'"
      ]
     },
     "execution_count": 8,
     "metadata": {},
     "output_type": "execute_result"
    }
   ],
   "source": [
    "nest_list = ['Chennai', 2, ['Bandahalli', 'Dharmapuri'], True]\n",
    "\n",
    "nest_list[2][1]\n"
   ]
  },
  {
   "cell_type": "code",
   "execution_count": 10,
   "id": "9fa8bc0e",
   "metadata": {},
   "outputs": [
    {
     "data": {
      "text/plain": [
       "'Bandahalli'"
      ]
     },
     "execution_count": 10,
     "metadata": {},
     "output_type": "execute_result"
    }
   ],
   "source": [
    "nest_list[2][0]"
   ]
  },
  {
   "cell_type": "code",
   "execution_count": 15,
   "id": "f9efe17e",
   "metadata": {},
   "outputs": [],
   "source": [
    "#Tuples\n",
    "\n",
    "tuple_value = (1,2,3,2,1)"
   ]
  },
  {
   "cell_type": "code",
   "execution_count": 14,
   "id": "29eb6898",
   "metadata": {},
   "outputs": [
    {
     "data": {
      "text/plain": [
       "tuple"
      ]
     },
     "execution_count": 14,
     "metadata": {},
     "output_type": "execute_result"
    }
   ],
   "source": [
    "type(tuple_value)"
   ]
  },
  {
   "cell_type": "code",
   "execution_count": 14,
   "id": "bf8d4b62",
   "metadata": {},
   "outputs": [],
   "source": [
    "#tuple_value.append(3) --- tuple is fixed cannot append and list can append"
   ]
  },
  {
   "cell_type": "code",
   "execution_count": 15,
   "id": "3b66a658",
   "metadata": {},
   "outputs": [
    {
     "data": {
      "text/plain": [
       "2"
      ]
     },
     "execution_count": 15,
     "metadata": {},
     "output_type": "execute_result"
    }
   ],
   "source": [
    "tuple_value[1]"
   ]
  },
  {
   "cell_type": "code",
   "execution_count": 16,
   "id": "228ced18",
   "metadata": {},
   "outputs": [],
   "source": [
    "#sets\n",
    "\n",
    "sets_values = {1,2,3,4,5}"
   ]
  },
  {
   "cell_type": "code",
   "execution_count": 17,
   "id": "037e1b57",
   "metadata": {},
   "outputs": [
    {
     "data": {
      "text/plain": [
       "{1, 2, 3, 4, 5}"
      ]
     },
     "execution_count": 17,
     "metadata": {},
     "output_type": "execute_result"
    }
   ],
   "source": [
    "sets_values"
   ]
  },
  {
   "cell_type": "code",
   "execution_count": 18,
   "id": "44f9108e",
   "metadata": {},
   "outputs": [
    {
     "data": {
      "text/plain": [
       "set"
      ]
     },
     "execution_count": 18,
     "metadata": {},
     "output_type": "execute_result"
    }
   ],
   "source": [
    "type(sets_values)"
   ]
  },
  {
   "cell_type": "code",
   "execution_count": 20,
   "id": "e961c215",
   "metadata": {},
   "outputs": [
    {
     "data": {
      "text/plain": [
       "{1, 2, 3, 4, 5, 6}"
      ]
     },
     "execution_count": 20,
     "metadata": {},
     "output_type": "execute_result"
    }
   ],
   "source": [
    "sets_values = {1,2,3,4,5,1,2,4,5,6}\n",
    "sets_values\n",
    "# set will print unique values"
   ]
  },
  {
   "cell_type": "code",
   "execution_count": 22,
   "id": "7bd95133",
   "metadata": {},
   "outputs": [],
   "source": [
    "my_log = {10,45,50,43,24}\n",
    "friend_log = {10,22,24,30,35}"
   ]
  },
  {
   "cell_type": "code",
   "execution_count": 23,
   "id": "29bac193",
   "metadata": {},
   "outputs": [
    {
     "name": "stdout",
     "output_type": "stream",
     "text": [
      "{35, 10, 43, 45, 50, 22, 24, 30}\n"
     ]
    }
   ],
   "source": [
    "print(my_log | friend_log)\n",
    "#combined unique number print one time"
   ]
  },
  {
   "cell_type": "code",
   "execution_count": 24,
   "id": "711aafb1",
   "metadata": {},
   "outputs": [
    {
     "name": "stdout",
     "output_type": "stream",
     "text": [
      "{24, 10}\n"
     ]
    }
   ],
   "source": [
    "print(my_log & friend_log)\n",
    "# common number"
   ]
  },
  {
   "cell_type": "code",
   "execution_count": 25,
   "id": "248a7569",
   "metadata": {},
   "outputs": [
    {
     "name": "stdout",
     "output_type": "stream",
     "text": [
      "{50, 43, 45}\n"
     ]
    }
   ],
   "source": [
    "print(my_log - friend_log)\n",
    "# does not match number in my_log"
   ]
  },
  {
   "cell_type": "code",
   "execution_count": 26,
   "id": "ba3d6dd3",
   "metadata": {},
   "outputs": [
    {
     "name": "stdout",
     "output_type": "stream",
     "text": [
      "{35, 22, 30}\n"
     ]
    }
   ],
   "source": [
    "print(friend_log - my_log)\n",
    "# does not match number in friend_log"
   ]
  },
  {
   "cell_type": "code",
   "execution_count": 27,
   "id": "d5a0d2fe",
   "metadata": {},
   "outputs": [
    {
     "name": "stdout",
     "output_type": "stream",
     "text": [
      "{50, 35, 22, 43, 45, 30}\n"
     ]
    }
   ],
   "source": [
    "print(my_log ^ friend_log)\n",
    "#unique number in both sets"
   ]
  },
  {
   "cell_type": "code",
   "execution_count": 28,
   "id": "f00bc8e1",
   "metadata": {},
   "outputs": [],
   "source": [
    "# Dictionaries\n",
    "# key/value pair\n",
    "\n",
    "dict_emp = {'name':'praveen', 'emp_id': 1001, 'role': ['Analyst', 'engineer']}"
   ]
  },
  {
   "cell_type": "code",
   "execution_count": 29,
   "id": "89f7d974",
   "metadata": {},
   "outputs": [
    {
     "data": {
      "text/plain": [
       "{'name': 'praveen', 'emp_id': 1001, 'role': ['Analyst', 'engineer']}"
      ]
     },
     "execution_count": 29,
     "metadata": {},
     "output_type": "execute_result"
    }
   ],
   "source": [
    "dict_emp"
   ]
  },
  {
   "cell_type": "code",
   "execution_count": 30,
   "id": "e83566ca",
   "metadata": {},
   "outputs": [
    {
     "data": {
      "text/plain": [
       "dict"
      ]
     },
     "execution_count": 30,
     "metadata": {},
     "output_type": "execute_result"
    }
   ],
   "source": [
    "type(dict_emp)"
   ]
  },
  {
   "cell_type": "code",
   "execution_count": 31,
   "id": "0fe3ecd5",
   "metadata": {},
   "outputs": [
    {
     "data": {
      "text/plain": [
       "dict_keys(['name', 'emp_id', 'role'])"
      ]
     },
     "execution_count": 31,
     "metadata": {},
     "output_type": "execute_result"
    }
   ],
   "source": [
    "dict_emp.keys()"
   ]
  },
  {
   "cell_type": "code",
   "execution_count": 32,
   "id": "3423ded5",
   "metadata": {},
   "outputs": [
    {
     "data": {
      "text/plain": [
       "dict_values(['praveen', 1001, ['Analyst', 'engineer']])"
      ]
     },
     "execution_count": 32,
     "metadata": {},
     "output_type": "execute_result"
    }
   ],
   "source": [
    "dict_emp.values()"
   ]
  },
  {
   "cell_type": "code",
   "execution_count": 33,
   "id": "c1f5eeba",
   "metadata": {},
   "outputs": [
    {
     "data": {
      "text/plain": [
       "'praveen'"
      ]
     },
     "execution_count": 33,
     "metadata": {},
     "output_type": "execute_result"
    }
   ],
   "source": [
    "dict_emp['name']"
   ]
  },
  {
   "cell_type": "code",
   "execution_count": 34,
   "id": "874a8bc0",
   "metadata": {},
   "outputs": [
    {
     "data": {
      "text/plain": [
       "{'name': 'Praveenkumar sakthivel',\n",
       " 'emp_id': 1001,\n",
       " 'role': ['Analyst', 'engineer']}"
      ]
     },
     "execution_count": 34,
     "metadata": {},
     "output_type": "execute_result"
    }
   ],
   "source": [
    "dict_emp['name'] = 'Praveenkumar sakthivel'\n",
    "dict_emp"
   ]
  },
  {
   "cell_type": "code",
   "execution_count": 35,
   "id": "a44b6e5e",
   "metadata": {},
   "outputs": [
    {
     "data": {
      "text/plain": [
       "dict_items([('name', 'Praveenkumar sakthivel'), ('emp_id', 1001), ('role', ['Analyst', 'engineer'])])"
      ]
     },
     "execution_count": 35,
     "metadata": {},
     "output_type": "execute_result"
    }
   ],
   "source": [
    "dict_emp.items()"
   ]
  },
  {
   "cell_type": "code",
   "execution_count": 37,
   "id": "d9d24d9b",
   "metadata": {},
   "outputs": [
    {
     "data": {
      "text/plain": [
       "{'name': 'Praveenkumar sakthivel',\n",
       " 'emp_id': 1001,\n",
       " 'role': ['Analyst', 'engineer'],\n",
       " 'salary': 30000}"
      ]
     },
     "execution_count": 37,
     "metadata": {},
     "output_type": "execute_result"
    }
   ],
   "source": [
    "dict_emp.update({'name': 'Praveenkumar sakthivel', 'emp_id': 1001, 'salary': 30000})\n",
    "dict_emp"
   ]
  },
  {
   "cell_type": "code",
   "execution_count": 38,
   "id": "a4b9c528",
   "metadata": {},
   "outputs": [
    {
     "data": {
      "text/plain": [
       "{'name': 'Praveenkumar sakthivel',\n",
       " 'emp_id': 1001,\n",
       " 'role': ['Analyst', 'engineer']}"
      ]
     },
     "execution_count": 38,
     "metadata": {},
     "output_type": "execute_result"
    }
   ],
   "source": [
    "del dict_emp['salary']\n",
    "dict_emp"
   ]
  },
  {
   "cell_type": "code",
   "execution_count": null,
   "id": "991dc9d7",
   "metadata": {},
   "outputs": [],
   "source": []
  },
  {
   "cell_type": "markdown",
   "id": "721b6f1f",
   "metadata": {},
   "source": [
    "# Membership operator"
   ]
  },
  {
   "cell_type": "code",
   "execution_count": 21,
   "id": "710e702f",
   "metadata": {},
   "outputs": [
    {
     "data": {
      "text/plain": [
       "True"
      ]
     },
     "execution_count": 21,
     "metadata": {},
     "output_type": "execute_result"
    }
   ],
   "source": [
    "cricket_game = 'World cup 2023 india'\n",
    "'cup' in cricket_game"
   ]
  },
  {
   "cell_type": "code",
   "execution_count": 23,
   "id": "bc8b0643",
   "metadata": {},
   "outputs": [
    {
     "data": {
      "text/plain": [
       "True"
      ]
     },
     "execution_count": 23,
     "metadata": {},
     "output_type": "execute_result"
    }
   ],
   "source": [
    "cricket_cups = [2011,1983,2023]\n",
    "2025 not in cricket_cups"
   ]
  },
  {
   "cell_type": "code",
   "execution_count": 25,
   "id": "d62c9947",
   "metadata": {},
   "outputs": [
    {
     "data": {
      "text/plain": [
       "False"
      ]
     },
     "execution_count": 25,
     "metadata": {},
     "output_type": "execute_result"
    }
   ],
   "source": [
    "cricket_cups = [2011,2023,1983]\n",
    "next_cup = 2027\n",
    "next_cup in cricket_cups"
   ]
  },
  {
   "cell_type": "code",
   "execution_count": 26,
   "id": "29816115",
   "metadata": {},
   "outputs": [
    {
     "data": {
      "text/plain": [
       "True"
      ]
     },
     "execution_count": 26,
     "metadata": {},
     "output_type": "execute_result"
    }
   ],
   "source": [
    "cricket_cups = [2011,2023,1983]\n",
    "next_cup = 2027\n",
    "next_cup not in cricket_cups"
   ]
  },
  {
   "cell_type": "markdown",
   "id": "648f50e6",
   "metadata": {},
   "source": [
    "# If - Elif - Else Statement"
   ]
  },
  {
   "cell_type": "code",
   "execution_count": 31,
   "id": "c5d35169",
   "metadata": {},
   "outputs": [
    {
     "name": "stdout",
     "output_type": "stream",
     "text": [
      "py\n"
     ]
    }
   ],
   "source": [
    "if 10 < 20:\n",
    "    print('py')\n",
    "else:\n",
    "    print('python')"
   ]
  },
  {
   "cell_type": "code",
   "execution_count": 36,
   "id": "32f57d0b",
   "metadata": {},
   "outputs": [
    {
     "name": "stdout",
     "output_type": "stream",
     "text": [
      "final\n"
     ]
    }
   ],
   "source": [
    "if(10 < 5) or (15 < 10):\n",
    "    print('first')\n",
    "elif(20 > 30):\n",
    "    print('1st elif')\n",
    "elif(30 > 100):\n",
    "    print('2nd elif')\n",
    "elif(30 > 50):\n",
    "    print('3rd elif')\n",
    "else:\n",
    "    print('final')\n",
    "   "
   ]
  },
  {
   "cell_type": "code",
   "execution_count": 37,
   "id": "c8000c90",
   "metadata": {},
   "outputs": [
    {
     "name": "stdout",
     "output_type": "stream",
     "text": [
      "2nd elif\n"
     ]
    }
   ],
   "source": [
    "if(10 < 5) or (15 < 10):\n",
    "    print('first')\n",
    "elif(20 > 30):\n",
    "    print('1st elif')\n",
    "elif(30 > 10):\n",
    "    print('2nd elif')\n",
    "elif(30 > 50):\n",
    "    print('3rd elif')\n",
    "else:\n",
    "    print('final')"
   ]
  },
  {
   "cell_type": "code",
   "execution_count": 39,
   "id": "eda45e06",
   "metadata": {},
   "outputs": [
    {
     "data": {
      "text/plain": [
       "'python'"
      ]
     },
     "execution_count": 39,
     "metadata": {},
     "output_type": "execute_result"
    }
   ],
   "source": [
    "print('py') if 10<5 else ('python')"
   ]
  },
  {
   "cell_type": "code",
   "execution_count": 10,
   "id": "b6dd61c0",
   "metadata": {},
   "outputs": [
    {
     "name": "stdout",
     "output_type": "stream",
     "text": [
      "first\n",
      "nested statement\n"
     ]
    }
   ],
   "source": [
    "if(10 < 5) or (15 < 20):\n",
    "    print('first')\n",
    "    if(20 < 30):\n",
    "        print('nested statement')\n",
    "elif(20 > 30):\n",
    "    print('1st elif')\n",
    "elif(30 > 100):\n",
    "    print('2nd elif')\n",
    "elif(30 > 50):\n",
    "    print('3rd elif')\n",
    "else:\n",
    "    print('final')"
   ]
  },
  {
   "cell_type": "markdown",
   "id": "f9db5487",
   "metadata": {},
   "source": [
    "# For Loop"
   ]
  },
  {
   "cell_type": "code",
   "execution_count": 11,
   "id": "9b21f0dc",
   "metadata": {},
   "outputs": [],
   "source": [
    "integer = [1,2,3,4,5]"
   ]
  },
  {
   "cell_type": "code",
   "execution_count": 50,
   "id": "fabc3a8e",
   "metadata": {},
   "outputs": [
    {
     "name": "stdout",
     "output_type": "stream",
     "text": [
      "1\n",
      "2\n",
      "3\n",
      "4\n",
      "5\n"
     ]
    }
   ],
   "source": [
    "for n1 in integer:\n",
    "    print(n1)"
   ]
  },
  {
   "cell_type": "code",
   "execution_count": 52,
   "id": "bf6021bf",
   "metadata": {},
   "outputs": [
    {
     "name": "stdout",
     "output_type": "stream",
     "text": [
      "yes!\n",
      "yes!\n",
      "yes!\n",
      "yes!\n",
      "yes!\n"
     ]
    }
   ],
   "source": [
    "for n2 in integer:\n",
    "    print('yes!')\n"
   ]
  },
  {
   "cell_type": "code",
   "execution_count": 53,
   "id": "7ecc62dd",
   "metadata": {},
   "outputs": [
    {
     "name": "stdout",
     "output_type": "stream",
     "text": [
      "2\n",
      "4\n",
      "6\n",
      "8\n",
      "10\n"
     ]
    }
   ],
   "source": [
    "for games in integer:\n",
    "    print(games + games)"
   ]
  },
  {
   "cell_type": "code",
   "execution_count": 4,
   "id": "85d98f13",
   "metadata": {},
   "outputs": [],
   "source": [
    "emp_dtl_dict = {'name': 'praveen', 'empid': '1001', 'emprole': ['Analyst', 'software engineer']}"
   ]
  },
  {
   "cell_type": "code",
   "execution_count": 5,
   "id": "c68f9c2d",
   "metadata": {},
   "outputs": [
    {
     "data": {
      "text/plain": [
       "{'name': 'praveen',\n",
       " 'empid': '1001',\n",
       " 'emprole': ['Analyst', 'software engineer']}"
      ]
     },
     "execution_count": 5,
     "metadata": {},
     "output_type": "execute_result"
    }
   ],
   "source": [
    "emp_dtl_dict"
   ]
  },
  {
   "cell_type": "code",
   "execution_count": 6,
   "id": "f035cb5a",
   "metadata": {},
   "outputs": [
    {
     "name": "stdout",
     "output_type": "stream",
     "text": [
      "praveen\n",
      "1001\n",
      "['Analyst', 'software engineer']\n"
     ]
    }
   ],
   "source": [
    "for empinfo in emp_dtl_dict.values():\n",
    "    print(empinfo)"
   ]
  },
  {
   "cell_type": "code",
   "execution_count": 7,
   "id": "75836382",
   "metadata": {},
   "outputs": [
    {
     "name": "stdout",
     "output_type": "stream",
     "text": [
      "name -> praveen\n",
      "empid -> 1001\n",
      "emprole -> ['Analyst', 'software engineer']\n"
     ]
    }
   ],
   "source": [
    "for key, value in emp_dtl_dict.items():\n",
    "    print(key,'->',value)"
   ]
  },
  {
   "cell_type": "code",
   "execution_count": 12,
   "id": "e9ac3684",
   "metadata": {},
   "outputs": [],
   "source": [
    "cricket_format = ['T20I', 'ODI', 'Test', 'TOP8']\n",
    "cricket_game = ['WT20','WC','WTC','CT']"
   ]
  },
  {
   "cell_type": "code",
   "execution_count": 13,
   "id": "102d8117",
   "metadata": {},
   "outputs": [
    {
     "name": "stdout",
     "output_type": "stream",
     "text": [
      "T20I  Match With  WT20\n",
      "T20I  Match With  WC\n",
      "T20I  Match With  WTC\n",
      "T20I  Match With  CT\n",
      "ODI  Match With  WT20\n",
      "ODI  Match With  WC\n",
      "ODI  Match With  WTC\n",
      "ODI  Match With  CT\n",
      "Test  Match With  WT20\n",
      "Test  Match With  WC\n",
      "Test  Match With  WTC\n",
      "Test  Match With  CT\n",
      "TOP8  Match With  WT20\n",
      "TOP8  Match With  WC\n",
      "TOP8  Match With  WTC\n",
      "TOP8  Match With  CT\n"
     ]
    }
   ],
   "source": [
    "for one in cricket_format:\n",
    "    for two in cricket_game:\n",
    "        print(one,' Match With ', two)"
   ]
  },
  {
   "cell_type": "markdown",
   "id": "5c9088bd",
   "metadata": {},
   "source": [
    "# While Loop"
   ]
  },
  {
   "cell_type": "code",
   "execution_count": null,
   "id": "07257967",
   "metadata": {},
   "outputs": [],
   "source": [
    "number = 0\n",
    "\n",
    "while number < 5:\n",
    "    print(number)\n",
    "    number = number + 1"
   ]
  },
  {
   "cell_type": "code",
   "execution_count": null,
   "id": "f8ab8040",
   "metadata": {},
   "outputs": [],
   "source": [
    "number = 0\n",
    "\n",
    "while number < 10:\n",
    "    print(number)\n",
    "#    if number == 5:\n",
    " #       break\n",
    "        number = number + 1"
   ]
  },
  {
   "cell_type": "code",
   "execution_count": null,
   "id": "277a52ed",
   "metadata": {},
   "outputs": [],
   "source": []
  }
 ],
 "metadata": {
  "kernelspec": {
   "display_name": "Python 3 (ipykernel)",
   "language": "python",
   "name": "python3"
  },
  "language_info": {
   "codemirror_mode": {
    "name": "ipython",
    "version": 3
   },
   "file_extension": ".py",
   "mimetype": "text/x-python",
   "name": "python",
   "nbconvert_exporter": "python",
   "pygments_lexer": "ipython3",
   "version": "3.11.3"
  }
 },
 "nbformat": 4,
 "nbformat_minor": 5
}
