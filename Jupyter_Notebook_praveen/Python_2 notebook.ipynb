{
 "cells": [
  {
   "cell_type": "markdown",
   "id": "a9cfe29c",
   "metadata": {},
   "source": [
    "# While Loop"
   ]
  },
  {
   "cell_type": "code",
   "execution_count": 1,
   "id": "d1343d2c",
   "metadata": {},
   "outputs": [
    {
     "name": "stdout",
     "output_type": "stream",
     "text": [
      "0\n",
      "1\n",
      "2\n",
      "3\n",
      "4\n",
      "5\n",
      "6\n",
      "7\n",
      "8\n",
      "9\n"
     ]
    }
   ],
   "source": [
    "n = 0\n",
    "\n",
    "while n < 10:\n",
    "    print(n)\n",
    "    n = n + 1"
   ]
  },
  {
   "cell_type": "code",
   "execution_count": 3,
   "id": "7d29bd95",
   "metadata": {},
   "outputs": [
    {
     "name": "stdout",
     "output_type": "stream",
     "text": [
      "0\n",
      "1\n",
      "2\n",
      "3\n",
      "4\n",
      "5\n"
     ]
    }
   ],
   "source": [
    "n = 0\n",
    "\n",
    "while n < 10:\n",
    "    print(n)\n",
    "    if n == 5:\n",
    "        break\n",
    "    n = n + 1"
   ]
  },
  {
   "cell_type": "code",
   "execution_count": 4,
   "id": "bb672440",
   "metadata": {},
   "outputs": [
    {
     "name": "stdout",
     "output_type": "stream",
     "text": [
      "1\n",
      "2\n",
      "3\n",
      "4\n",
      "6\n",
      "7\n",
      "8\n",
      "9\n",
      "10\n"
     ]
    }
   ],
   "source": [
    "n = 0\n",
    "\n",
    "while n < 10:\n",
    "    n = n + 1\n",
    "    if n == 5:\n",
    "        continue\n",
    "    print(n)"
   ]
  },
  {
   "cell_type": "markdown",
   "id": "551dc333",
   "metadata": {},
   "source": [
    "# Functions"
   ]
  },
  {
   "cell_type": "code",
   "execution_count": 1,
   "id": "a4b999c6",
   "metadata": {},
   "outputs": [],
   "source": [
    "def first_fun():\n",
    "    print('first function')"
   ]
  },
  {
   "cell_type": "code",
   "execution_count": 3,
   "id": "e7949267",
   "metadata": {},
   "outputs": [
    {
     "name": "stdout",
     "output_type": "stream",
     "text": [
      "first function\n"
     ]
    }
   ],
   "source": [
    "first_fun()\n"
   ]
  },
  {
   "cell_type": "code",
   "execution_count": 22,
   "id": "1b380ebd",
   "metadata": {},
   "outputs": [],
   "source": [
    "def fun_num(n):\n",
    "    print(n**2)"
   ]
  },
  {
   "cell_type": "code",
   "execution_count": 23,
   "id": "bad67ead",
   "metadata": {},
   "outputs": [
    {
     "name": "stdout",
     "output_type": "stream",
     "text": [
      "25\n"
     ]
    }
   ],
   "source": [
    "fun_num(5)"
   ]
  },
  {
   "cell_type": "code",
   "execution_count": 24,
   "id": "e63c6505",
   "metadata": {},
   "outputs": [],
   "source": [
    "def fun_prg(number,power):\n",
    "    print(number**power)"
   ]
  },
  {
   "cell_type": "code",
   "execution_count": 26,
   "id": "b65325c9",
   "metadata": {},
   "outputs": [
    {
     "name": "stdout",
     "output_type": "stream",
     "text": [
      "125\n"
     ]
    }
   ],
   "source": [
    "fun_prg(5,3)"
   ]
  },
  {
   "cell_type": "code",
   "execution_count": 29,
   "id": "09008288",
   "metadata": {},
   "outputs": [],
   "source": [
    "args_tuple = (5,6,7,8,9,1)\n",
    "\n",
    "def fun_multi(*number):\n",
    "    print(number[0]*number[2])"
   ]
  },
  {
   "cell_type": "code",
   "execution_count": 30,
   "id": "a5434c82",
   "metadata": {},
   "outputs": [
    {
     "name": "stdout",
     "output_type": "stream",
     "text": [
      "35\n"
     ]
    }
   ],
   "source": [
    "fun_multi(*args_tuple)"
   ]
  },
  {
   "cell_type": "code",
   "execution_count": 31,
   "id": "6fae7aad",
   "metadata": {},
   "outputs": [],
   "source": [
    "def fun_key(number,power):\n",
    "    print(number**power)"
   ]
  },
  {
   "cell_type": "code",
   "execution_count": 32,
   "id": "30ad3371",
   "metadata": {},
   "outputs": [
    {
     "name": "stdout",
     "output_type": "stream",
     "text": [
      "243\n"
     ]
    }
   ],
   "source": [
    "fun_key(number= 3, power= 5)"
   ]
  },
  {
   "cell_type": "code",
   "execution_count": 40,
   "id": "f7fc1e11",
   "metadata": {},
   "outputs": [],
   "source": [
    "def fun_mkey(**number):\n",
    "    print('My num is :' + number['integer'], '\\n' 'My another num is :' + number['integer2'] )"
   ]
  },
  {
   "cell_type": "code",
   "execution_count": 41,
   "id": "ad445e80",
   "metadata": {},
   "outputs": [
    {
     "name": "stdout",
     "output_type": "stream",
     "text": [
      "My num is :1234 \n",
      "My another num is :5678\n"
     ]
    }
   ],
   "source": [
    "fun_mkey(integer = '1234', integer2 = '5678')"
   ]
  },
  {
   "cell_type": "markdown",
   "id": "cf513893",
   "metadata": {},
   "source": [
    "# Converting data types"
   ]
  },
  {
   "cell_type": "code",
   "execution_count": 42,
   "id": "ad7592ba",
   "metadata": {},
   "outputs": [
    {
     "name": "stdout",
     "output_type": "stream",
     "text": [
      "6\n"
     ]
    }
   ],
   "source": [
    "i = 6\n",
    "print(i)"
   ]
  },
  {
   "cell_type": "code",
   "execution_count": 43,
   "id": "7fe72fc6",
   "metadata": {},
   "outputs": [
    {
     "data": {
      "text/plain": [
       "int"
      ]
     },
     "execution_count": 43,
     "metadata": {},
     "output_type": "execute_result"
    }
   ],
   "source": [
    "type(i)"
   ]
  },
  {
   "cell_type": "code",
   "execution_count": 44,
   "id": "406f256e",
   "metadata": {},
   "outputs": [
    {
     "name": "stdout",
     "output_type": "stream",
     "text": [
      "6\n"
     ]
    }
   ],
   "source": [
    "j = '6'\n",
    "print(j)"
   ]
  },
  {
   "cell_type": "code",
   "execution_count": 45,
   "id": "22a67010",
   "metadata": {},
   "outputs": [
    {
     "data": {
      "text/plain": [
       "str"
      ]
     },
     "execution_count": 45,
     "metadata": {},
     "output_type": "execute_result"
    }
   ],
   "source": [
    "type(j)"
   ]
  },
  {
   "cell_type": "code",
   "execution_count": 1,
   "id": "8f9e4377",
   "metadata": {},
   "outputs": [
    {
     "ename": "NameError",
     "evalue": "name 'i' is not defined",
     "output_type": "error",
     "traceback": [
      "\u001b[1;31m---------------------------------------------------------------------------\u001b[0m",
      "\u001b[1;31mNameError\u001b[0m                                 Traceback (most recent call last)",
      "Cell \u001b[1;32mIn[1], line 1\u001b[0m\n\u001b[1;32m----> 1\u001b[0m \u001b[38;5;28mprint\u001b[39m(i\u001b[38;5;241m+\u001b[39mj)\n",
      "\u001b[1;31mNameError\u001b[0m: name 'i' is not defined"
     ]
    }
   ],
   "source": [
    "print(i+j)"
   ]
  },
  {
   "cell_type": "code",
   "execution_count": 50,
   "id": "6ab893b9",
   "metadata": {},
   "outputs": [
    {
     "name": "stdout",
     "output_type": "stream",
     "text": [
      "6\n"
     ]
    }
   ],
   "source": [
    "j_convert = int(j)\n",
    "print(j)"
   ]
  },
  {
   "cell_type": "code",
   "execution_count": 51,
   "id": "63928281",
   "metadata": {},
   "outputs": [
    {
     "data": {
      "text/plain": [
       "int"
      ]
     },
     "execution_count": 51,
     "metadata": {},
     "output_type": "execute_result"
    }
   ],
   "source": [
    "type(j_convert)"
   ]
  },
  {
   "cell_type": "code",
   "execution_count": 53,
   "id": "c5ef16bf",
   "metadata": {},
   "outputs": [
    {
     "name": "stdout",
     "output_type": "stream",
     "text": [
      "12\n"
     ]
    }
   ],
   "source": [
    "sum_ij = i + j_convert\n",
    "print(sum_ij)"
   ]
  },
  {
   "cell_type": "code",
   "execution_count": 54,
   "id": "5f5e2c9d",
   "metadata": {},
   "outputs": [
    {
     "data": {
      "text/plain": [
       "int"
      ]
     },
     "execution_count": 54,
     "metadata": {},
     "output_type": "execute_result"
    }
   ],
   "source": [
    "type(sum_ij)"
   ]
  },
  {
   "cell_type": "code",
   "execution_count": 55,
   "id": "efa47f59",
   "metadata": {},
   "outputs": [
    {
     "data": {
      "text/plain": [
       "list"
      ]
     },
     "execution_count": 55,
     "metadata": {},
     "output_type": "execute_result"
    }
   ],
   "source": [
    "list_type = [1,2,3]\n",
    "type(list_type)"
   ]
  },
  {
   "cell_type": "code",
   "execution_count": 58,
   "id": "1348157a",
   "metadata": {},
   "outputs": [],
   "source": [
    "c = tuple(list_type)"
   ]
  },
  {
   "cell_type": "code",
   "execution_count": 59,
   "id": "2fc4040a",
   "metadata": {},
   "outputs": [
    {
     "data": {
      "text/plain": [
       "list"
      ]
     },
     "execution_count": 59,
     "metadata": {},
     "output_type": "execute_result"
    }
   ],
   "source": [
    "type(list_type)"
   ]
  },
  {
   "cell_type": "code",
   "execution_count": 61,
   "id": "b291cfd3",
   "metadata": {},
   "outputs": [],
   "source": [
    "list_con = [1,2,3,4,1,2,2,3,5,4,4,6]"
   ]
  },
  {
   "cell_type": "code",
   "execution_count": 62,
   "id": "cfad8106",
   "metadata": {},
   "outputs": [
    {
     "data": {
      "text/plain": [
       "list"
      ]
     },
     "execution_count": 62,
     "metadata": {},
     "output_type": "execute_result"
    }
   ],
   "source": [
    "type(list_con)"
   ]
  },
  {
   "cell_type": "code",
   "execution_count": 65,
   "id": "a6d5db9d",
   "metadata": {},
   "outputs": [],
   "source": [
    "a = set(list_con)"
   ]
  },
  {
   "cell_type": "code",
   "execution_count": 66,
   "id": "a85e74ed",
   "metadata": {},
   "outputs": [
    {
     "data": {
      "text/plain": [
       "set"
      ]
     },
     "execution_count": 66,
     "metadata": {},
     "output_type": "execute_result"
    }
   ],
   "source": [
    "type(a)"
   ]
  },
  {
   "cell_type": "code",
   "execution_count": 15,
   "id": "8fed58d3",
   "metadata": {},
   "outputs": [],
   "source": [
    "dict_type = {'Name': 'praveen', 'Age': '30', 'Location': 'DPI'}"
   ]
  },
  {
   "cell_type": "code",
   "execution_count": 16,
   "id": "e08bf2f2",
   "metadata": {},
   "outputs": [
    {
     "data": {
      "text/plain": [
       "dict"
      ]
     },
     "execution_count": 16,
     "metadata": {},
     "output_type": "execute_result"
    }
   ],
   "source": [
    "type(dict_type)"
   ]
  },
  {
   "cell_type": "code",
   "execution_count": 17,
   "id": "693f1b4d",
   "metadata": {},
   "outputs": [
    {
     "data": {
      "text/plain": [
       "dict_items([('Name', 'praveen'), ('Age', '30'), ('Location', 'DPI')])"
      ]
     },
     "execution_count": 17,
     "metadata": {},
     "output_type": "execute_result"
    }
   ],
   "source": [
    "dict_type.items()"
   ]
  },
  {
   "cell_type": "code",
   "execution_count": 18,
   "id": "6c785a76",
   "metadata": {},
   "outputs": [
    {
     "data": {
      "text/plain": [
       "dict_values(['praveen', '30', 'DPI'])"
      ]
     },
     "execution_count": 18,
     "metadata": {},
     "output_type": "execute_result"
    }
   ],
   "source": [
    "dict_type.values()"
   ]
  },
  {
   "cell_type": "code",
   "execution_count": 19,
   "id": "2d0aa44f",
   "metadata": {},
   "outputs": [
    {
     "data": {
      "text/plain": [
       "dict_keys(['Name', 'Age', 'Location'])"
      ]
     },
     "execution_count": 19,
     "metadata": {},
     "output_type": "execute_result"
    }
   ],
   "source": [
    "dict_type.keys()"
   ]
  },
  {
   "cell_type": "code",
   "execution_count": 20,
   "id": "c359863d",
   "metadata": {},
   "outputs": [
    {
     "data": {
      "text/plain": [
       "['praveen', '30', 'DPI']"
      ]
     },
     "execution_count": 20,
     "metadata": {},
     "output_type": "execute_result"
    }
   ],
   "source": [
    "list(dict_type.values())"
   ]
  },
  {
   "cell_type": "code",
   "execution_count": 21,
   "id": "915e7b2e",
   "metadata": {},
   "outputs": [
    {
     "data": {
      "text/plain": [
       "list"
      ]
     },
     "execution_count": 21,
     "metadata": {},
     "output_type": "execute_result"
    }
   ],
   "source": [
    "type(list(dict_type.values()))"
   ]
  },
  {
   "cell_type": "code",
   "execution_count": 22,
   "id": "bee54193",
   "metadata": {},
   "outputs": [
    {
     "data": {
      "text/plain": [
       "dict_values"
      ]
     },
     "execution_count": 22,
     "metadata": {},
     "output_type": "execute_result"
    }
   ],
   "source": [
    "type(dict_type.values())"
   ]
  },
  {
   "cell_type": "markdown",
   "id": "12f95f33",
   "metadata": {},
   "source": [
    "# BMI Calculator\n"
   ]
  },
  {
   "cell_type": "code",
   "execution_count": 13,
   "id": "d8d4b7a5",
   "metadata": {},
   "outputs": [
    {
     "name": "stdout",
     "output_type": "stream",
     "text": [
      "Enter Your Name: praveen\n",
      "Enter your weight in pound: 143\n",
      "Enter your height in inches: 63\n",
      "25.32854623330814\n",
      "praveen, You are Overweight\n"
     ]
    }
   ],
   "source": [
    "Name = input(\"Enter Your Name: \")\n",
    "\n",
    "weight = int(input(\"Enter your weight in pound: \"))\n",
    "height = int(input(\"Enter your height in inches: \"))\n",
    "BMI = (weight * 703) / (height * height)\n",
    "print(BMI)\n",
    "\n",
    "if BMI > 0:\n",
    "    if (BMI < 18.5):\n",
    "        print(Name +\", You are Underweight\")\n",
    "    elif (BMI < 24.9):\n",
    "        print(Name +\", You are Normal Weignt\")\n",
    "    elif (BMI < 29.9):\n",
    "        print(Name +\", You are Overweight\")\n",
    "    elif (BMI < 34.9):\n",
    "        print(Name +\", You are Obese\")\n",
    "    elif (BMI < 39.9):\n",
    "        print(Name +\", You are Severely Obese\")\n",
    "    else:\n",
    "        print(Name +\", You are Morbidly Obese\")\n",
    "else:\n",
    "    print(\"Enter valid credentials\")\n",
    "    "
   ]
  },
  {
   "cell_type": "code",
   "execution_count": null,
   "id": "cad5864c",
   "metadata": {},
   "outputs": [],
   "source": [
    "\n",
    "\n"
   ]
  },
  {
   "cell_type": "code",
   "execution_count": null,
   "id": "6c03573b",
   "metadata": {},
   "outputs": [],
   "source": [
    "Under 18.5\tUnderweight\tMinimal\n",
    "18.5 - 24.9\tNormal Weight\tMinimal\n",
    "25 - 29.9\tOverweight\tIncreased\n",
    "30 - 34.9\tObese\tHigh\n",
    "35 - 39.9\tSeverely Obese\tVery High\n",
    "40 and over\tMorbidly Obese\tExtremely High"
   ]
  },
  {
   "cell_type": "markdown",
   "id": "dd3ca733",
   "metadata": {},
   "source": [
    "# Automatic File Sorter in file Explorer\n"
   ]
  },
  {
   "cell_type": "code",
   "execution_count": 58,
   "id": "c8a48c0f",
   "metadata": {},
   "outputs": [],
   "source": [
    "import os, shutil"
   ]
  },
  {
   "cell_type": "code",
   "execution_count": 59,
   "id": "ec2ddf91",
   "metadata": {},
   "outputs": [],
   "source": [
    "path = r\"C:/Users/Praveen Kumar/Documents/python_Alex/\""
   ]
  },
  {
   "cell_type": "code",
   "execution_count": 60,
   "id": "11792256",
   "metadata": {},
   "outputs": [],
   "source": [
    "file_name = os.listdir(path)"
   ]
  },
  {
   "cell_type": "code",
   "execution_count": 61,
   "id": "d8c51216",
   "metadata": {},
   "outputs": [
    {
     "data": {
      "text/plain": [
       "True"
      ]
     },
     "execution_count": 61,
     "metadata": {},
     "output_type": "execute_result"
    }
   ],
   "source": [
    "os.path.exists(path + 'csv files')"
   ]
  },
  {
   "cell_type": "code",
   "execution_count": 62,
   "id": "cc33aebc",
   "metadata": {},
   "outputs": [],
   "source": [
    "folder_name = ['csv files', 'excel files', 'image files']\n",
    "\n",
    "for loop in range(0,3):\n",
    "    if not os.path.exists(path + folder_name[loop]):\n",
    "#        print(path + folder_name[loop])\n",
    "        os.makedirs(path + folder_name[loop])\n",
    "\n"
   ]
  },
  {
   "cell_type": "code",
   "execution_count": 64,
   "id": "5d254012",
   "metadata": {},
   "outputs": [],
   "source": [
    "for file in file_name:\n",
    "    if '.csv' in file and not os.path.exists(path + \"csv files/\" + file):\n",
    "        shutil.move(path + file, path + \"csv files/\" + file)\n",
    "    elif '.xlsx' in file and not os.path.exists(path + \"excel files/\" + file):\n",
    "        shutil.move(path + file, path + \"excel files/\" + file)\n",
    "    elif '.jpg' in file and not os.path.exists(path + \"image files/\" + file):\n",
    "        shutil.move(path + file, path + \"image files/\" + file)   \n"
   ]
  },
  {
   "cell_type": "code",
   "execution_count": null,
   "id": "0d4413d4",
   "metadata": {},
   "outputs": [],
   "source": []
  },
  {
   "cell_type": "code",
   "execution_count": null,
   "id": "1bb6bd2e",
   "metadata": {},
   "outputs": [],
   "source": [
    "import os, shutil\n",
    "path = r\"1234567890\"\n",
    "file_name = os.listdir(path)\n",
    "folder_name = ['csv file']\n",
    "for folder in range(0,3):\n",
    "    if not os.path.exists(path + folder_name[folder]):\n",
    "        os.makedir(path + folder_name[folder])"
   ]
  }
 ],
 "metadata": {
  "kernelspec": {
   "display_name": "Python 3 (ipykernel)",
   "language": "python",
   "name": "python3"
  },
  "language_info": {
   "codemirror_mode": {
    "name": "ipython",
    "version": 3
   },
   "file_extension": ".py",
   "mimetype": "text/x-python",
   "name": "python",
   "nbconvert_exporter": "python",
   "pygments_lexer": "ipython3",
   "version": "3.11.3"
  }
 },
 "nbformat": 4,
 "nbformat_minor": 5
}
